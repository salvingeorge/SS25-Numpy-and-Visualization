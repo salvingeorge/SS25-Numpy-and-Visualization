{
 "cells": [
  {
   "cell_type": "markdown",
   "metadata": {},
   "source": [
    "# SS25 Foundation Course | Numpy and Visualization"
   ]
  },
  {
   "cell_type": "markdown",
   "metadata": {},
   "source": [
    "## Numpy Foundations"
   ]
  },
  {
   "cell_type": "markdown",
   "metadata": {},
   "source": [
    "NumPy is the fundamental package for scientific computing in Python. It is a Python library that provides a multidimensional array object, various derived objects (such as masked arrays and matrices), and an assortment of routines for fast operations on arrays, including mathematical, logical, shape manipulation, sorting, selecting, I/O, discrete Fourier transforms, basic linear algebra, basic statistical operations, random simulation and much more. [source](https://numpy.org/doc/stable/)"
   ]
  },
  {
   "cell_type": "markdown",
   "metadata": {},
   "source": [
    "### Tutorials\n",
    "- https://numpy.org/doc/stable/user/absolute_beginners.html\n",
    "- https://numpy.org/numpy-tutorials/\n"
   ]
  },
  {
   "cell_type": "markdown",
   "metadata": {},
   "source": [
    "### Installation"
   ]
  },
  {
   "cell_type": "code",
   "execution_count": null,
   "metadata": {},
   "outputs": [],
   "source": [
    "# !pip install numpy"
   ]
  },
  {
   "cell_type": "markdown",
   "metadata": {},
   "source": [
    "### Importing Numpy"
   ]
  },
  {
   "cell_type": "code",
   "execution_count": null,
   "metadata": {},
   "outputs": [],
   "source": [
    "import numpy as np"
   ]
  },
  {
   "cell_type": "markdown",
   "metadata": {},
   "source": [
    "### NumPy Arrays"
   ]
  },
  {
   "cell_type": "markdown",
   "metadata": {},
   "source": [
    "In computer programming, an array is a structure for storing and retrieving data. We often talk about an array as if it were a grid in space, with each cell storing one element of the data. For instance, if each element of the data were a number, we might visualize a “one-dimensional” array like a list:\n"
   ]
  },
  {
   "cell_type": "code",
   "execution_count": null,
   "metadata": {},
   "outputs": [],
   "source": [
    "# Create arrays using different methods\n",
    "arr1 = np.array([1, 2, 3, 4, 5])  # From a list\n",
    "arr2 = np.zeros(5)                # Array of zeros\n",
    "arr3 = np.ones((2, 3))            # 2x3 array of ones\n",
    "arr4 = np.arange(0, 10, 2)        # Evenly spaced values\n",
    "arr5 = np.linspace(0, 1, 5)       # Linearly spaced values\n",
    "arr6 = np.random.rand(3, 3)       # Random values between 0 and 1\n",
    "\n",
    "print(\"Array from list:\\n\", arr1)\n",
    "print(\"\\nArray of zeros:\\n\", arr2)\n",
    "print(\"\\n2x3 Array of ones:\\n\", arr3)\n",
    "print(\"\\nEvenly spaced values:\\n\", arr4)\n",
    "print(\"\\nLinearly spaced values:\\n\", arr5)\n",
    "print(\"\\nRandom 3x3 array:\\n\", arr6)"
   ]
  },
  {
   "cell_type": "markdown",
   "metadata": {},
   "source": [
    "#### Array Attributes and Indexing"
   ]
  },
  {
   "cell_type": "code",
   "execution_count": null,
   "metadata": {},
   "outputs": [],
   "source": [
    "# Create a 2D array\n",
    "arr = np.array([[1, 2, 3], [4, 5, 6], [7, 8, 9]])\n",
    "print(\"Array:\\n\", arr)\n"
   ]
  },
  {
   "cell_type": "code",
   "execution_count": null,
   "metadata": {},
   "outputs": [],
   "source": [
    "\n",
    "# Array attributes\n",
    "print(\"\\nShape:\", arr.shape)        # Dimensions of the array\n",
    "print(\"Size:\", arr.size)           # Total number of elements\n",
    "print(\"Dimensions:\", arr.ndim)      # Number of dimensions\n",
    "print(\"Data type:\", arr.dtype)      # Type of elements"
   ]
  },
  {
   "cell_type": "code",
   "execution_count": null,
   "metadata": {},
   "outputs": [],
   "source": [
    "print(arr)\n",
    "# Basic indexing\n",
    "print(\"\\nFirst row:\", arr[0])       # First row\n",
    "print(\"Element at (1,2):\", arr[1, 2])  # Element at row 1, column 2"
   ]
  },
  {
   "cell_type": "code",
   "execution_count": null,
   "metadata": {},
   "outputs": [],
   "source": [
    "# Slicing\n",
    "print(\"\\nFirst two rows:\\n\", arr[:2])      # First two rows\n",
    "print(\"\\nLast two columns:\\n\", arr[:, 1:3])  # All rows, columns 1 and 2"
   ]
  },
  {
   "cell_type": "markdown",
   "metadata": {},
   "source": [
    "#### Practice"
   ]
  },
  {
   "cell_type": "code",
   "execution_count": null,
   "metadata": {},
   "outputs": [],
   "source": [
    "a = np.array([1, 2, 3, 4, 5, 6])\n",
    "\n",
    "# Q1: Print the first and last element of the array\n",
    "\n",
    "# Q2: Print the first 3 elements of the array\n",
    "\n",
    "# Q3: Print the last 3 elements of the array\n",
    "\n",
    "# Q4. Create a 3 dimensional array\n",
    "\n",
    "# Q5. Print the element at (2,3) cell of the array\n"
   ]
  },
  {
   "cell_type": "markdown",
   "metadata": {},
   "source": [
    "#### Array Operations"
   ]
  },
  {
   "cell_type": "code",
   "execution_count": null,
   "metadata": {},
   "outputs": [],
   "source": [
    "# Create arrays\n",
    "a = np.array([1, 2, 3])\n",
    "b = np.array([4, 5, 6])"
   ]
  },
  {
   "cell_type": "code",
   "execution_count": null,
   "metadata": {},
   "outputs": [],
   "source": [
    "# Arithmetic operations (element-wise)\n",
    "print(\"a + b =\", a + b)  # Addition\n",
    "print(\"a - b =\", a - b)  # Subtraction\n",
    "print(\"a * b =\", a * b)  # Multiplication\n",
    "print(\"a / b =\", a / b)  # Division"
   ]
  },
  {
   "cell_type": "code",
   "execution_count": null,
   "metadata": {},
   "outputs": [],
   "source": [
    "# Scalar operations\n",
    "print(\"\\na * 2 =\", a * 2)  # Multiplication by scalar\n",
    "print(\"a + 10 =\", a + 10)  # Addition with scalar"
   ]
  },
  {
   "cell_type": "code",
   "execution_count": null,
   "metadata": {},
   "outputs": [],
   "source": [
    "# Mathematical functions\n",
    "print(\"\\nSquare root of a =\", np.sqrt(a))\n",
    "print(\"Exponential of a =\", np.exp(a))\n",
    "print(\"Log of b =\", np.log(b))\n",
    "print(\"Sine of a =\", np.sin(a))"
   ]
  },
  {
   "cell_type": "code",
   "execution_count": null,
   "metadata": {},
   "outputs": [],
   "source": [
    "# Aggregation functions\n",
    "print(\"\\nSum of a =\", np.sum(a))\n",
    "print(\"Mean of b =\", np.mean(b))\n",
    "print(\"Max of a =\", np.max(a))\n",
    "print(\"Min of b =\", np.min(b))"
   ]
  },
  {
   "cell_type": "markdown",
   "metadata": {},
   "source": [
    "#### Reshaping and Transposing Arrays"
   ]
  },
  {
   "cell_type": "code",
   "execution_count": null,
   "metadata": {},
   "outputs": [],
   "source": [
    "# Create a 1D array\n",
    "arr = np.arange(12)\n",
    "print(\"Original array:\", arr)"
   ]
  },
  {
   "cell_type": "code",
   "execution_count": null,
   "metadata": {},
   "outputs": [],
   "source": [
    "\n",
    "# Reshape to 2D\n",
    "arr_2d = arr.reshape(3, 4)\n",
    "print(\"\\nReshaped to 3x4:\\n\", arr_2d)\n"
   ]
  },
  {
   "cell_type": "code",
   "execution_count": null,
   "metadata": {},
   "outputs": [],
   "source": [
    "\n",
    "# Transpose\n",
    "arr_transposed = arr_2d.T\n",
    "print(\"\\nTransposed 2D array:\\n\", arr_transposed)\n"
   ]
  },
  {
   "cell_type": "code",
   "execution_count": null,
   "metadata": {},
   "outputs": [],
   "source": [
    "# Converting 1D array into 2D array\n",
    "\n",
    "print(\"\\n1D array:\\n\",arr[:6])\n",
    "print(\"\\n1D array shape:\\n\",arr[:6].shape)\n",
    "arr2d = arr[:6][np.newaxis, :]\n",
    "print(\"\\nConverted 2D array:\\n\",arr2d)\n",
    "print(\"\\n2D array shape:\\n\",arr2d.shape)\n"
   ]
  },
  {
   "cell_type": "markdown",
   "metadata": {},
   "source": [
    "### Practice"
   ]
  },
  {
   "cell_type": "code",
   "execution_count": null,
   "metadata": {},
   "outputs": [],
   "source": [
    "arr = np.array([1, 2, 3, 4, 5, 6, 7, 8, 9, 10])\n",
    "# Q1: Print the elements of the array which lower than 5\n",
    "\n",
    "\n",
    "# Q2: Print the elements of the array which are divisible by 3\n",
    "\n"
   ]
  },
  {
   "cell_type": "markdown",
   "metadata": {},
   "source": [
    "### Creating Array from Existing data"
   ]
  },
  {
   "cell_type": "code",
   "execution_count": null,
   "metadata": {},
   "outputs": [],
   "source": [
    "arr1 = np.array([1,2,3,4,5])\n",
    "arr2 = np.array([6,7,8,9,10])\n",
    "\n",
    "h_arr = np.hstack((arr1,arr2))\n",
    "print(h_arr)\n",
    "v_arr = np.vstack((arr1,arr2))\n",
    "print(v_arr)"
   ]
  },
  {
   "cell_type": "markdown",
   "metadata": {},
   "source": [
    "### Unique and Counts"
   ]
  },
  {
   "cell_type": "code",
   "execution_count": null,
   "metadata": {},
   "outputs": [],
   "source": [
    "a = np.array([11, 11, 12, 13, 14, 15, 16, 17, 12, 13, 11, 14, 18, 19, 20])\n",
    "\n",
    "uniques = np.unique(a)\n",
    "print(uniques)"
   ]
  },
  {
   "cell_type": "code",
   "execution_count": null,
   "metadata": {},
   "outputs": [],
   "source": [
    "uniques, counts = np.unique(a, return_counts=True)\n",
    "print(uniques)\n",
    "print(counts)\n"
   ]
  },
  {
   "cell_type": "code",
   "execution_count": null,
   "metadata": {},
   "outputs": [],
   "source": [
    "a?"
   ]
  },
  {
   "cell_type": "markdown",
   "metadata": {},
   "source": [
    "### Reshaping and flattening multidimensional arrays"
   ]
  },
  {
   "cell_type": "code",
   "execution_count": null,
   "metadata": {},
   "outputs": [],
   "source": [
    "x = np.array([[1 , 2, 3, 4], [5, 6, 7, 8], [9, 10, 11, 12]])"
   ]
  },
  {
   "cell_type": "code",
   "execution_count": null,
   "metadata": {},
   "outputs": [],
   "source": [
    "a1=x.flatten()\n",
    "a1[0] = 100\n",
    "print(\"\\nOriginal array:\\n\", x)\n",
    "print(\"\\nFlattened array:\\n\", a1)"
   ]
  },
  {
   "cell_type": "code",
   "execution_count": null,
   "metadata": {},
   "outputs": [],
   "source": [
    "a2=x.ravel()\n",
    "a2[0] = 100\n",
    "print(\"\\nOriginal array:\\n\", x)\n",
    "print(\"\\nFlattened array:\\n\", a2)"
   ]
  },
  {
   "cell_type": "markdown",
   "metadata": {},
   "source": [
    "### Loading and Saving Numpy Objects"
   ]
  },
  {
   "cell_type": "code",
   "execution_count": null,
   "metadata": {},
   "outputs": [],
   "source": [
    "a = np.array([1, 2, 3, 4, 5, 6])\n",
    "\n",
    "# save the array to a file\n",
    "np.save('filename', a)"
   ]
  },
  {
   "cell_type": "code",
   "execution_count": null,
   "metadata": {},
   "outputs": [],
   "source": [
    "# load the array into a variable\n",
    "b = np.load('filename.npy')\n",
    "print(b)"
   ]
  },
  {
   "cell_type": "code",
   "execution_count": null,
   "metadata": {},
   "outputs": [],
   "source": [
    "# save the array as csv file\n",
    "np.savetxt('array_in_csv.csv', a, delimiter=',')\n",
    "\n",
    "np.loadtxt('array_in_csv.csv', delimiter=',')"
   ]
  },
  {
   "cell_type": "markdown",
   "metadata": {},
   "source": [
    "### Some Linear Algebra Operations"
   ]
  },
  {
   "cell_type": "code",
   "execution_count": null,
   "metadata": {},
   "outputs": [],
   "source": [
    "# Linear algebra operations\n",
    "A = np.array([[1, 2], [3, 4]])\n",
    "B = np.array([[5, 6], [7, 8]])\n",
    "\n",
    "print(\"Matrix A:\\n\", A)\n",
    "print(\"\\nMatrix B:\\n\", B)\n",
    "\n",
    "# Matrix multiplication\n",
    "C = np.matmul(A, B)  # or A @ B in Python 3.5+\n",
    "print(\"\\nMatrix multiplication (A @ B):\\n\", C)\n",
    "\n",
    "# Matrix inverse\n",
    "A_inv = np.linalg.inv(A)\n",
    "print(\"\\nInverse of A:\\n\", A_inv)\n",
    "\n",
    "# Verify inverse: A @ A^-1 should be close to identity matrix\n",
    "print(\"\\nA @ A_inv:\\n\", A @ A_inv)\n",
    "\n",
    "# Determinant\n",
    "det_A = np.linalg.det(A)\n",
    "print(\"\\nDeterminant of A:\", det_A)\n",
    "\n",
    "# Eigenvalues and eigenvectors\n",
    "eigenvalues, eigenvectors = np.linalg.eig(A)\n",
    "print(\"\\nEigenvalues of A:\", eigenvalues)\n",
    "print(\"\\nEigenvectors of A:\\n\", eigenvectors)"
   ]
  },
  {
   "cell_type": "markdown",
   "metadata": {},
   "source": [
    "## Plotting with Matplotlib"
   ]
  },
  {
   "cell_type": "markdown",
   "metadata": {},
   "source": [
    "- https://matplotlib.org/stable/users/getting_started/\n",
    "- https://matplotlib.org/3.2.2/gallery/misc/plotfile_demo_sgskip.html\n",
    "- https://www.geeksforgeeks.org/visualize-data-from-csv-file-in-python/"
   ]
  },
  {
   "cell_type": "markdown",
   "metadata": {},
   "source": [
    "### Installation"
   ]
  },
  {
   "cell_type": "code",
   "execution_count": null,
   "metadata": {},
   "outputs": [],
   "source": [
    "# !pip install matplotlib"
   ]
  },
  {
   "cell_type": "markdown",
   "metadata": {},
   "source": [
    "### Importing the library"
   ]
  },
  {
   "cell_type": "code",
   "execution_count": null,
   "metadata": {},
   "outputs": [],
   "source": [
    "import matplotlib.pyplot as plt"
   ]
  },
  {
   "cell_type": "markdown",
   "metadata": {},
   "source": [
    "### Line Plots"
   ]
  },
  {
   "cell_type": "markdown",
   "metadata": {},
   "source": [
    "#### Basic Plotting"
   ]
  },
  {
   "cell_type": "code",
   "execution_count": null,
   "metadata": {},
   "outputs": [],
   "source": [
    "x = np.linspace(0, 10, 200)\n",
    "y = np.sin(x)\n",
    "\n",
    "plt.plot(x,y)\n",
    "plt.show()"
   ]
  },
  {
   "cell_type": "markdown",
   "metadata": {},
   "source": [
    "#### Figure and Axis"
   ]
  },
  {
   "cell_type": "code",
   "execution_count": null,
   "metadata": {},
   "outputs": [],
   "source": [
    "\n",
    "plt.figure(figsize=(10, 6))  # Set figure size\n",
    "plt.plot(x, y)\n",
    "plt.show()"
   ]
  },
  {
   "cell_type": "markdown",
   "metadata": {},
   "source": [
    "#### Labels and Titles"
   ]
  },
  {
   "cell_type": "code",
   "execution_count": null,
   "metadata": {},
   "outputs": [],
   "source": [
    "plt.figure(figsize=(10, 6))\n",
    "plt.plot(x, y, label='sin(x)')\n",
    "plt.xlabel('x')\n",
    "plt.ylabel('y')\n",
    "plt.title('Line Plot')\n",
    "plt.grid(True)\n",
    "plt.legend()\n",
    "plt.show()"
   ]
  },
  {
   "cell_type": "markdown",
   "metadata": {},
   "source": [
    "### Multiple Lines on the Same Plot"
   ]
  },
  {
   "cell_type": "code",
   "execution_count": null,
   "metadata": {},
   "outputs": [],
   "source": [
    "x = np.linspace(0, 2*np.pi, 100)\n",
    "y1 = np.sin(x)\n",
    "y2 = np.cos(x)\n",
    "\n",
    "plt.figure(figsize=(10, 6))\n",
    "\n",
    "plt.plot(x, y1,'b-', label='sin(x)') # 'b-' means blue solid line\n",
    "plt.plot(x, y2,'r--', label='cos(x)') # 'r--' means red dashed line\n",
    "\n",
    "plt.xlabel('x')\n",
    "plt.ylabel('y')\n",
    "plt.title('Plot of sin(x) and cos(x)')\n",
    "plt.legend()\n",
    "plt.grid(True)\n",
    "# plt.axhline(y=0, color='y', linestyle='-', alpha=0.3)  # Add horizontal line at y=0\n",
    "# plt.axvline(x=np.pi, color='r', linestyle='-', alpha=0.3)  # Add vertical line at x=pi\n",
    "\n",
    "\n",
    "plt.show()"
   ]
  },
  {
   "cell_type": "markdown",
   "metadata": {},
   "source": [
    "### Practice"
   ]
  },
  {
   "cell_type": "markdown",
   "metadata": {},
   "source": [
    "Q1: Create a line plot with the following properties:\n",
    "- x-axis: 0 to 10\n",
    "- y-axis: 0 to 100\n",
    "- line color: red\n",
    "- line style: dashed\n"
   ]
  },
  {
   "cell_type": "code",
   "execution_count": null,
   "metadata": {},
   "outputs": [],
   "source": []
  },
  {
   "cell_type": "markdown",
   "metadata": {},
   "source": [
    "###  Scatter Plots"
   ]
  },
  {
   "cell_type": "code",
   "execution_count": null,
   "metadata": {},
   "outputs": [],
   "source": [
    "# Generate random data\n",
    "n = 50\n",
    "x = np.random.rand(n)\n",
    "y = np.random.rand(n)\n",
    "colors = np.random.rand(n) \n",
    "\n",
    "# Create scatter plot\n",
    "plt.figure(figsize=(10, 8))\n",
    "plt.scatter(x, y, c=colors)\n",
    "\n",
    "plt.colorbar(label='Color Value')\n",
    "plt.xlabel('X')\n",
    "plt.ylabel('Y')\n",
    "plt.title('Scatter Plot with Random Data')\n",
    "plt.grid(True, alpha=0.5)\n",
    "plt.show()"
   ]
  },
  {
   "cell_type": "markdown",
   "metadata": {},
   "source": [
    "### Bar Plot"
   ]
  },
  {
   "cell_type": "code",
   "execution_count": null,
   "metadata": {},
   "outputs": [],
   "source": [
    "# Data for bar chart\n",
    "categories = ['Category A', 'Category B', 'Category C', 'Category D', 'Category E']\n",
    "values = [25, 40, 30, 55, 15]\n",
    "\n",
    "# Create bar chart\n",
    "plt.figure(figsize=(10, 6))\n",
    "plt.bar(categories, values, color='blue', edgecolor='navy')\n",
    "\n",
    "\n",
    "plt.xlabel('Categories')\n",
    "plt.ylabel('Values')\n",
    "plt.title('Bar Plot')\n",
    "plt.grid(True, axis='y', alpha=0.3)\n",
    "plt.ylim(0, max(values) + 10)  # Set y-axis limit\n",
    "\n",
    "plt.show()"
   ]
  },
  {
   "cell_type": "markdown",
   "metadata": {},
   "source": [
    "### Practice"
   ]
  },
  {
   "cell_type": "markdown",
   "metadata": {},
   "source": [
    "Create a bar plot using the following data"
   ]
  },
  {
   "cell_type": "code",
   "execution_count": null,
   "metadata": {},
   "outputs": [],
   "source": [
    "countries = ['A', 'B', 'C', 'D', 'E']\n",
    "populations = [331, 1380, 1410, 212, 206]"
   ]
  },
  {
   "cell_type": "markdown",
   "metadata": {},
   "source": [
    "### Pie Charts"
   ]
  },
  {
   "cell_type": "code",
   "execution_count": null,
   "metadata": {},
   "outputs": [],
   "source": [
    "# Data for pie chart\n",
    "categories = ['Category A', 'Category B', 'Category C', 'Category D', 'Category E']\n",
    "sizes = [15, 30, 25, 10, 20]\n",
    "explode = (0.1, 0, 0, 0, 0)  # explode the 1st slice (Category A)\n",
    "\n",
    "# Create pie chart\n",
    "plt.figure(figsize=(10, 8))\n",
    "plt.pie(sizes, explode=explode, labels=categories,\n",
    "        autopct='%1.1f%%', shadow=True)\n",
    "\n",
    "plt.axis('equal')\n",
    "plt.title('Distribution by Category')\n",
    "\n",
    "plt.show()"
   ]
  },
  {
   "cell_type": "markdown",
   "metadata": {},
   "source": [
    "### Subplots"
   ]
  },
  {
   "cell_type": "code",
   "execution_count": null,
   "metadata": {},
   "outputs": [],
   "source": [
    "# Create a simpler 2x2 subplot example with individual axes variables\n",
    "fig = plt.figure(figsize=(10, 8))\n",
    "fig.suptitle('Simple Subplot Example', fontsize=14)\n",
    "\n",
    "# Create individual subplot axes\n",
    "ax1 = fig.add_subplot(2, 2, 1)  # 2 rows, 2 columns, 1st subplot\n",
    "ax2 = fig.add_subplot(2, 2, 2)  # 2 rows, 2 columns, 2nd subplot\n",
    "ax3 = fig.add_subplot(2, 2, 3)  # 2 rows, 2 columns, 3rd subplot\n",
    "ax4 = fig.add_subplot(2, 2, 4)  # 2 rows, 2 columns, 4th subplot\n",
    "\n",
    "# Basic data\n",
    "x = np.linspace(0, 10, 30)\n",
    "y1 = np.sin(x)\n",
    "y2 = x**2\n",
    "\n",
    "# Subplot 1: Line plot\n",
    "ax1.plot(x, y1)\n",
    "ax1.set_title('Line Plot')\n",
    "ax1.grid(True)\n",
    "\n",
    "# Subplot 2: Scatter plot\n",
    "ax2.scatter(x[::3], y2[::3])\n",
    "ax2.set_title('Scatter Plot')\n",
    "\n",
    "# Subplot 3: Bar chart\n",
    "labels = ['A', 'B', 'C', 'D']\n",
    "values = [10, 20, 15, 25]\n",
    "ax3.bar(labels, values)\n",
    "ax3.set_title('Bar Chart')\n",
    "\n",
    "# Subplot 4: Histogram\n",
    "data = np.random.normal(0, 1, 100)\n",
    "ax4.hist(data, bins=10)\n",
    "ax4.set_title('Histogram')\n",
    "\n",
    "# Adjust spacing between subplots\n",
    "plt.tight_layout()\n",
    "\n",
    "plt.show()"
   ]
  },
  {
   "cell_type": "markdown",
   "metadata": {},
   "source": [
    "### Visualizing a Mathematical Function"
   ]
  },
  {
   "cell_type": "code",
   "execution_count": null,
   "metadata": {},
   "outputs": [],
   "source": [
    "# Define a function\n",
    "def f(x, y):\n",
    "    return np.sin(x) + np.cos(y)\n",
    "\n",
    "# Create data points\n",
    "x = np.linspace(-5, 5, 100)\n",
    "y = np.linspace(-5, 5, 100)\n",
    "X, Y = np.meshgrid(x, y)\n",
    "Z = f(X, Y)\n",
    "\n",
    "# Create a figure with multiple visualizations of the same function\n",
    "fig = plt.figure(figsize=(15, 10))\n",
    "\n",
    "# 3D Surface plot\n",
    "ax1 = fig.add_subplot(1, 2, 1, projection='3d')\n",
    "surface = ax1.plot_surface(X, Y, Z, cmap='viridis', edgecolor='none', alpha=0.8)\n",
    "ax1.set_xlabel('X')\n",
    "ax1.set_ylabel('Y')\n",
    "ax1.set_zlabel('Z')\n",
    "ax1.set_title('3D Surface: f(x,y) = sin(x) + cos(y)')\n",
    "fig.colorbar(surface, ax=ax1, shrink=0.5)\n",
    "\n",
    "# Contour plot\n",
    "ax2 = fig.add_subplot(1, 2, 2)\n",
    "contour = ax2.contourf(X, Y, Z, 20, cmap='viridis')\n",
    "ax2.set_xlabel('X')\n",
    "ax2.set_ylabel('Y')\n",
    "ax2.set_title('Contour Plot: f(x,y) = sin(x) + cos(y)')\n",
    "fig.colorbar(contour, ax=ax2)\n",
    "\n",
    "plt.tight_layout()\n",
    "plt.show()"
   ]
  },
  {
   "cell_type": "markdown",
   "metadata": {},
   "source": [
    "### Working with CSV files"
   ]
  },
  {
   "cell_type": "code",
   "execution_count": null,
   "metadata": {},
   "outputs": [],
   "source": [
    "import pandas as pd"
   ]
  },
  {
   "cell_type": "code",
   "execution_count": null,
   "metadata": {},
   "outputs": [],
   "source": [
    "df = pd.read_csv('data/business_data.csv')\n",
    "df.head()"
   ]
  },
  {
   "cell_type": "code",
   "execution_count": null,
   "metadata": {},
   "outputs": [],
   "source": [
    "plt.figure(figsize=(12, 4))\n",
    "\n",
    "# Create four subplots\n",
    "# ax1 = plt.subplot(2, 2, 1)\n",
    "ax2 = plt.subplot(1, 3, 1)\n",
    "ax3 = plt.subplot(1, 3, 2)\n",
    "ax4 = plt.subplot(1, 3, 3)\n",
    "\n",
    "# Plotting the data\n",
    "\n",
    "# 1. Bar plot\n",
    "ax2.bar(df['Year'], df['Sales'], color='skyblue')\n",
    "ax2.set_title('Yearly Sales')\n",
    "ax2.set_xlabel('Year')\n",
    "ax2.set_ylabel('Sales ($)')\n",
    "\n",
    "# 2. Scatter plot\n",
    "ax3.scatter(df['Customers'], df['Sales'], s=100, c=range(len(df)), cmap='viridis')\n",
    "ax3.set_title('Sales vs Number of Customers')\n",
    "ax3.set_xlabel('Number of Customers')\n",
    "ax3.set_ylabel('Sales ($)')\n",
    "\n",
    "# 3. Pie chart\n",
    "latest_year = df['Year'].max()\n",
    "latest_expenses = df[df['Year'] == latest_year]['Expenses'].iloc[0]\n",
    "latest_sales = df[df['Year'] == latest_year]['Sales'].iloc[0]\n",
    "profit = latest_sales - latest_expenses\n",
    "\n",
    "# Create data for pie chart\n",
    "pie_data = [latest_expenses, profit]\n",
    "labels = ['Expenses', 'Profit']\n",
    "\n",
    "ax4.pie(pie_data, labels=labels, autopct='%1.1f%%', colors=['skyblue', 'lightgreen'])\n",
    "ax4.set_title(f'Expense vs Profit ({latest_year})')\n",
    "\n",
    "plt.tight_layout()\n",
    "plt.show()\n"
   ]
  },
  {
   "cell_type": "code",
   "execution_count": null,
   "metadata": {},
   "outputs": [],
   "source": []
  }
 ],
 "metadata": {
  "kernelspec": {
   "display_name": "base",
   "language": "python",
   "name": "python3"
  },
  "language_info": {
   "codemirror_mode": {
    "name": "ipython",
    "version": 3
   },
   "file_extension": ".py",
   "mimetype": "text/x-python",
   "name": "python",
   "nbconvert_exporter": "python",
   "pygments_lexer": "ipython3",
   "version": "3.9.13"
  }
 },
 "nbformat": 4,
 "nbformat_minor": 2
}
